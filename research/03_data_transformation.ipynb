{
 "cells": [
  {
   "cell_type": "markdown",
   "id": "cfdcca6a-b07f-4ee7-84cc-995045c0a637",
   "metadata": {},
   "source": [
    "### For data transformation"
   ]
  },
  {
   "cell_type": "code",
   "execution_count": 1,
   "id": "fff0556d-5901-4ad4-b8e6-7edaf280717f",
   "metadata": {},
   "outputs": [
    {
     "data": {
      "text/plain": [
       "'D:\\\\ML\\\\End-to-End-Red-Wine-Quality-Prediction\\\\research'"
      ]
     },
     "execution_count": 1,
     "metadata": {},
     "output_type": "execute_result"
    }
   ],
   "source": [
    "import os\n",
    "%pwd"
   ]
  },
  {
   "cell_type": "code",
   "execution_count": 2,
   "id": "4f3544d9-5412-4da2-8226-e6e16f7e16b5",
   "metadata": {},
   "outputs": [],
   "source": [
    "os.chdir(\"../\")"
   ]
  },
  {
   "cell_type": "code",
   "execution_count": 3,
   "id": "7b783965-abab-4da0-9a6a-c48609f4a389",
   "metadata": {},
   "outputs": [
    {
     "data": {
      "text/plain": [
       "'D:\\\\ML\\\\End-to-End-Red-Wine-Quality-Prediction'"
      ]
     },
     "execution_count": 3,
     "metadata": {},
     "output_type": "execute_result"
    }
   ],
   "source": [
    "%pwd"
   ]
  },
  {
   "cell_type": "markdown",
   "id": "c1a3edb0-8c55-4b55-965b-bef5b0a82fc6",
   "metadata": {},
   "source": [
    "... after everything will be written in this notebook\n",
    "\n",
    "the following cell code will then needs to be copied to: src/ml_project/entity/config_entity.py"
   ]
  },
  {
   "cell_type": "code",
   "execution_count": 4,
   "id": "a99afa50-96b0-448e-8fea-07af01f600e2",
   "metadata": {},
   "outputs": [],
   "source": [
    "# preparing the data transformation entity\n",
    "\n",
    "from dataclasses import dataclass\n",
    "from pathlib import Path\n",
    "\n",
    "@dataclass(frozen=True)\n",
    "class DataTransformationConfig:\n",
    "    root_dir: Path\n",
    "    data_path: Path"
   ]
  },
  {
   "cell_type": "code",
   "execution_count": 7,
   "id": "f39f1c90-c2f7-4088-b83c-18b41022d543",
   "metadata": {},
   "outputs": [],
   "source": [
    "from src.ml_project.constants import *\n",
    "from src.ml_project.utils.common import read_yaml, create_directories\n",
    "\n",
    "# creating configuration as a class\n",
    "\n",
    "class ConfigurationManager:\n",
    "    def __init__(\n",
    "        self,\n",
    "        config_filepath = CONFIG_FILE_PATH,\n",
    "        params_filepath = PARAMS_FILE_PATH,\n",
    "        schema_filepath = SCHEMA_FILE_PATH):\n",
    "\n",
    "        self.config = read_yaml(config_filepath)\n",
    "        self.params = read_yaml(params_filepath)\n",
    "        self.schema = read_yaml(schema_filepath)\n",
    "\n",
    "        create_directories([self.config.artifacts_root])\n",
    "\n",
    "    # function for data transformation configuration\n",
    "    def get_data_transformation_config(self) -> DataTransformationConfig:\n",
    "        config = self.config.data_transformation\n",
    "\n",
    "        create_directories([config.root_dir])\n",
    "\n",
    "        data_transformation_config = DataTransformationConfig(\n",
    "            root_dir=config.root_dir,\n",
    "            data_path=config.data_path,\n",
    "        )\n",
    "\n",
    "        return data_transformation_config"
   ]
  },
  {
   "cell_type": "markdown",
   "id": "9187e7cd-84b8-47b6-8bcd-4cb6d6b409f4",
   "metadata": {},
   "source": [
    "... after everything will be written in this notebook\n",
    "\n",
    "the above cell's function 'get_data_transformation_config' will then needs to be copied to: src/ml_project/config/configuration.py"
   ]
  },
  {
   "cell_type": "code",
   "execution_count": 8,
   "id": "6474dcc9-297c-4d21-a94f-7c8d72a59551",
   "metadata": {},
   "outputs": [],
   "source": [
    "# importing libraries\n",
    "import os\n",
    "from ml_project import logger\n",
    "from sklearn.model_selection import train_test_split\n",
    "import pandas as pd"
   ]
  },
  {
   "cell_type": "code",
   "execution_count": 9,
   "id": "eeec0ca8-84b5-4c9a-8653-dd17230ce1de",
   "metadata": {},
   "outputs": [],
   "source": [
    "class DataTransformation:\n",
    "    def __init__(self, config: DataTransformationConfig):\n",
    "        self.config = config\n",
    "\n",
    "    \n",
    "    # Note: can add different data transformation techniques such as Scaler, PCA and all\n",
    "    # and can also perform diff kinds of EDA in ML cycle here before passing this data to the model\n",
    "\n",
    "    # in here only adding train_test_spliting cz this data is already cleaned up\n",
    "\n",
    "\n",
    "    def train_test_spliting(self):\n",
    "        data = pd.read_csv(self.config.data_path)\n",
    "\n",
    "        # Split the data into training and test sets. (0.75, 0.25) split.\n",
    "        train, test = train_test_split(data)\n",
    "\n",
    "        train.to_csv(os.path.join(self.config.root_dir, \"train.csv\"),index = False)\n",
    "        test.to_csv(os.path.join(self.config.root_dir, \"test.csv\"),index = False)\n",
    "\n",
    "        logger.info(\"Splited data into training and test sets\")\n",
    "        logger.info(train.shape)\n",
    "        logger.info(test.shape)\n",
    "\n",
    "        print(train.shape)\n",
    "        print(test.shape)"
   ]
  },
  {
   "cell_type": "markdown",
   "id": "927f69d9-ac34-4704-9c42-6af7f5e53ff2",
   "metadata": {},
   "source": [
    "... after everything will be written in this notebook\n",
    "\n",
    "the above cell's codes will then needs to be copied to: src/ml_project/components/data_transformation.py\n",
    "\n",
    "data_transformation.py file will have to be created manually"
   ]
  },
  {
   "cell_type": "code",
   "execution_count": 10,
   "id": "6d535c87-1c6d-4790-9c49-32602dc2651c",
   "metadata": {},
   "outputs": [
    {
     "name": "stdout",
     "output_type": "stream",
     "text": [
      "[2024-09-02 23:43:34,658: INFO: common: yaml file: config\\config.yaml loaded successfully]\n",
      "[2024-09-02 23:43:34,692: INFO: common: yaml file: params.yaml loaded successfully]\n",
      "[2024-09-02 23:43:34,712: INFO: common: yaml file: schema.yaml loaded successfully]\n",
      "[2024-09-02 23:43:34,712: INFO: common: created directory at: artifacts]\n",
      "[2024-09-02 23:43:34,716: INFO: common: created directory at: artifacts/data_transformation]\n",
      "[2024-09-02 23:43:34,799: INFO: 3773348186: Splited data into training and test sets]\n",
      "[2024-09-02 23:43:34,799: INFO: 3773348186: (857, 13)]\n",
      "[2024-09-02 23:43:34,799: INFO: 3773348186: (286, 13)]\n",
      "(857, 13)\n",
      "(286, 13)\n"
     ]
    }
   ],
   "source": [
    "try:\n",
    "    config = ConfigurationManager()\n",
    "    data_transformation_config = config.get_data_transformation_config()\n",
    "    data_transformation = DataTransformation(config=data_transformation_config)\n",
    "    data_transformation.train_test_spliting()\n",
    "except Exception as e:\n",
    "    raise e"
   ]
  },
  {
   "cell_type": "markdown",
   "id": "bb02a9a7-3fd8-4eac-885b-28d7f269b64a",
   "metadata": {},
   "source": [
    "... after everything will be written in this notebook\n",
    "\n",
    "the above cell's only `try` block code will then needs to be copied to: src/ml_project/pipeline/stage_03_data_transformation.py\n",
    "\n",
    "stage_03_data_transformation.py file will have to be created manually\n"
   ]
  },
  {
   "cell_type": "code",
   "execution_count": null,
   "id": "67d97dbf-fe51-4ae0-99c0-23f8530827a8",
   "metadata": {},
   "outputs": [],
   "source": []
  }
 ],
 "metadata": {
  "kernelspec": {
   "display_name": "Python 3 (ipykernel)",
   "language": "python",
   "name": "python3"
  },
  "language_info": {
   "codemirror_mode": {
    "name": "ipython",
    "version": 3
   },
   "file_extension": ".py",
   "mimetype": "text/x-python",
   "name": "python",
   "nbconvert_exporter": "python",
   "pygments_lexer": "ipython3",
   "version": "3.11.5"
  }
 },
 "nbformat": 4,
 "nbformat_minor": 5
}
