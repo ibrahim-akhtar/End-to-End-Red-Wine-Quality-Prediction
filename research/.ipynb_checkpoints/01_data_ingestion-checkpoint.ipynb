{
 "cells": [
  {
   "cell_type": "markdown",
   "id": "ef69523c-6ecc-4452-ba27-976bc51b8c1d",
   "metadata": {},
   "source": [
    "### For data ingestion\n",
    "\n",
    "Doing this to read the zip of data directly from a link.\n",
    "\n",
    "Uploaded the zip file on my github."
   ]
  },
  {
   "cell_type": "code",
   "execution_count": 1,
   "id": "ee606ec3-49a3-48ef-97b1-3a73b8e06c9b",
   "metadata": {},
   "outputs": [],
   "source": [
    "import os"
   ]
  },
  {
   "cell_type": "code",
   "execution_count": 2,
   "id": "df678517-8265-49e3-b910-e0843ee06749",
   "metadata": {},
   "outputs": [
    {
     "data": {
      "text/plain": [
       "'D:\\\\ML\\\\End-to-End-Red-Wine-Quality-Prediction\\\\research'"
      ]
     },
     "execution_count": 2,
     "metadata": {},
     "output_type": "execute_result"
    }
   ],
   "source": [
    "%pwd"
   ]
  },
  {
   "cell_type": "markdown",
   "id": "cd9a9d92-4dac-4504-a728-af07a958a5b3",
   "metadata": {},
   "source": [
    "to move on folder back"
   ]
  },
  {
   "cell_type": "code",
   "execution_count": 3,
   "id": "a1d3edd5-e42d-4283-8d0d-ae007abb403e",
   "metadata": {},
   "outputs": [],
   "source": [
    "os.chdir(\"../\")"
   ]
  },
  {
   "cell_type": "code",
   "execution_count": 4,
   "id": "951fc32b-c955-43e0-bc79-f7a926ad34c1",
   "metadata": {},
   "outputs": [
    {
     "data": {
      "text/plain": [
       "'D:\\\\ML\\\\End-to-End-Red-Wine-Quality-Prediction'"
      ]
     },
     "execution_count": 4,
     "metadata": {},
     "output_type": "execute_result"
    }
   ],
   "source": [
    "%pwd"
   ]
  },
  {
   "cell_type": "markdown",
   "id": "6058bb45-2c05-431e-afc6-cb266953151e",
   "metadata": {},
   "source": [
    "preparing an entity (its a return type of a function)\n",
    "\n",
    "\n",
    "\n",
    "... after everything will be written in this notebook\n",
    "\n",
    "the following cell code will then needs to be copied to: src/ml_project/entity/config_entity.py"
   ]
  },
  {
   "cell_type": "code",
   "execution_count": 5,
   "id": "482d2238-86cc-4ccc-b7c5-928bfb6384fb",
   "metadata": {},
   "outputs": [],
   "source": [
    "from dataclasses import dataclass\n",
    "from pathlib import Path\n",
    "\n",
    "@dataclass(frozen=True)\n",
    "class DataIngestionConfig:\n",
    "    root_dir: Path\n",
    "    source_URL: str\n",
    "    local_data_file: Path\n",
    "    unzip_dir: Path"
   ]
  },
  {
   "cell_type": "markdown",
   "id": "2ef3baaa-e6b8-4d48-bfe5-fb5c18f204d0",
   "metadata": {},
   "source": [
    "importing the constants from the constants folder - constructor file"
   ]
  },
  {
   "cell_type": "code",
   "execution_count": 7,
   "id": "b9758559-bad6-4315-88ea-ce71154e5f47",
   "metadata": {},
   "outputs": [],
   "source": [
    "from src.ml_project.constants import *"
   ]
  },
  {
   "cell_type": "code",
   "execution_count": 9,
   "id": "cd4b0d16-5d76-4c26-84d9-f2159bb464d7",
   "metadata": {},
   "outputs": [],
   "source": [
    "from src.ml_project.utils.common import read_yaml, create_directories"
   ]
  },
  {
   "cell_type": "code",
   "execution_count": 10,
   "id": "4e92756f-3c93-4da5-aff9-99e2412a4c23",
   "metadata": {},
   "outputs": [],
   "source": [
    "# creating configuration as a class\n",
    "\n",
    "class ConfigurationManager:\n",
    "    def __init__(\n",
    "        self,\n",
    "        config_filepath = CONFIG_FILE_PATH,\n",
    "        params_filepath = PARAMS_FILE_PATH,\n",
    "        schema_filepath = SCHEMA_FILE_PATH):\n",
    "\n",
    "        self.config = read_yaml(config_filepath)\n",
    "        self.params = read_yaml(params_filepath)\n",
    "        self.schema = read_yaml(schema_filepath)\n",
    "\n",
    "        create_directories([self.config.artifacts_root])\n",
    "\n",
    "\n",
    "    # function for data ingestion configuration\n",
    "    def get_data_ingestion_config(self) -> DataIngestionConfig:\n",
    "        config = self.config.data_ingestion\n",
    "\n",
    "        create_directories([config.root_dir])\n",
    "\n",
    "        data_ingestion_config = DataIngestionConfig(\n",
    "            root_dir = config.root_dir,\n",
    "            source_URL = config.source_URL,\n",
    "            local_data_file = config.local_data_file,\n",
    "            unzip_dir = config.unzip_dir\n",
    "        )\n",
    "\n",
    "        return data_ingestion_config"
   ]
  },
  {
   "cell_type": "markdown",
   "id": "9e0fa2dd-8d9a-435a-b877-e96ea8c347c9",
   "metadata": {},
   "source": [
    "... after everything will be written in this notebook\n",
    "\n",
    "the above 3 cell's codes will then needs to be copied to: src/ml_project/config/configuration.py"
   ]
  },
  {
   "cell_type": "code",
   "execution_count": 11,
   "id": "5ede368e-d0ca-4e4f-b807-cdcec4dd52b0",
   "metadata": {},
   "outputs": [],
   "source": [
    "# creating data ingestion components\n",
    "\n",
    "import os\n",
    "import urllib.request as request\n",
    "import zipfile\n",
    "from ml_project import logger\n",
    "from ml_project.utils.common import get_size"
   ]
  },
  {
   "cell_type": "code",
   "execution_count": 13,
   "id": "5f4d94c9-42ba-41d2-9f91-9aff93c6b5af",
   "metadata": {},
   "outputs": [],
   "source": [
    "# creating data ingestion components\n",
    "\n",
    "# class for data ingestion\n",
    "\n",
    "class DataIngestion:\n",
    "    def __init__(self, config: DataIngestionConfig):\n",
    "        self.config = config\n",
    "\n",
    "    def download_file(self):\n",
    "        if not os.path.exists(self.config.local_data_file):\n",
    "            filename, headers = request.urlretrieve(\n",
    "                url = self.config.source_URL,\n",
    "                filename = self.config.local_data_file\n",
    "            )\n",
    "            logger.info(f\"{filename} download! with following info: \\n{headers}\")\n",
    "        else:\n",
    "            logger.info(f\"File already exists of size: {get_size(Path(self.config.local_data_file))}\")\n",
    "\n",
    "    \n",
    "    def extract_zip_file(self):\n",
    "        \"\"\"\n",
    "        zip_file_path: str\n",
    "        Extracts the zip file into the data directory\n",
    "        Function returns None\n",
    "        \"\"\"\n",
    "        unzip_path = self.config.unzip_dir\n",
    "        os.makedirs(unzip_path, exist_ok=True)\n",
    "        with zipfile.ZipFile(self.config.local_data_file, 'r') as zip_ref:\n",
    "            zip_ref.extractall(unzip_path)"
   ]
  },
  {
   "cell_type": "markdown",
   "id": "f0a09080-b650-478d-aa75-ec7c21bb7337",
   "metadata": {},
   "source": [
    "... after everything will be written in this notebook\n",
    "\n",
    "the above 2 cell's codes will then needs to be copied to: src/ml_project/components/data_ingestion.py\n",
    "\n",
    "data_ingestion.py file will have to be created manually"
   ]
  },
  {
   "cell_type": "code",
   "execution_count": 15,
   "id": "3a8a32a5-b6c0-4c71-bda0-a03d521c2cf1",
   "metadata": {},
   "outputs": [
    {
     "name": "stdout",
     "output_type": "stream",
     "text": [
      "[2024-09-01 00:37:47,991: INFO: common: yaml file: config\\config.yaml loaded successfully]\n",
      "[2024-09-01 00:37:48,008: INFO: common: yaml file: params.yaml loaded successfully]\n",
      "[2024-09-01 00:37:48,023: INFO: common: yaml file: schema.yaml loaded successfully]\n",
      "[2024-09-01 00:37:48,023: INFO: common: created directory at: artifacts]\n",
      "[2024-09-01 00:37:48,037: INFO: common: created directory at: artifacts/data_ingestion]\n",
      "[2024-09-01 00:37:49,874: INFO: 1199494555: artifacts/data_ingestion/data.zip download! with following info: \n",
      "Connection: close\n",
      "Content-Length: 20986\n",
      "Cache-Control: max-age=300\n",
      "Content-Security-Policy: default-src 'none'; style-src 'unsafe-inline'; sandbox\n",
      "Content-Type: application/zip\n",
      "ETag: \"c349023e9ec6e7747f318bf5ad81fc7ceaaad68259ac6b30586d7e3b2f2b5c11\"\n",
      "Strict-Transport-Security: max-age=31536000\n",
      "X-Content-Type-Options: nosniff\n",
      "X-Frame-Options: deny\n",
      "X-XSS-Protection: 1; mode=block\n",
      "X-GitHub-Request-Id: A102:287FBD:15B6B5:1BE4EF:66D36A06\n",
      "Accept-Ranges: bytes\n",
      "Date: Sat, 31 Aug 2024 19:07:50 GMT\n",
      "Via: 1.1 varnish\n",
      "X-Served-By: cache-maa10239-MAA\n",
      "X-Cache: MISS\n",
      "X-Cache-Hits: 0\n",
      "X-Timer: S1725131270.211566,VS0,VE273\n",
      "Vary: Authorization,Accept-Encoding,Origin\n",
      "Access-Control-Allow-Origin: *\n",
      "Cross-Origin-Resource-Policy: cross-origin\n",
      "X-Fastly-Request-ID: 9868ee17edb44c466829ecd9bf6faad3b30b44b1\n",
      "Expires: Sat, 31 Aug 2024 19:12:50 GMT\n",
      "Source-Age: 0\n",
      "\n",
      "]\n"
     ]
    }
   ],
   "source": [
    "# creating a pipeline to do run/execute which function first\n",
    "# and which function second and so on\n",
    "\n",
    "try:\n",
    "    config = ConfigurationManager()\n",
    "    data_ingestion_config = config.get_data_ingestion_config()\n",
    "    data_ingestion = DataIngestion(config = data_ingestion_config)\n",
    "    data_ingestion.download_file()\n",
    "    data_ingestion.extract_zip_file()\n",
    "except Exception as e:\n",
    "    raise e"
   ]
  },
  {
   "cell_type": "markdown",
   "id": "d0f63bc9-5927-4747-bd28-4d3c8fbb0fc1",
   "metadata": {},
   "source": [
    "... after everything will be written in this notebook\n",
    "\n",
    "the above cell's only `try` block code will then needs to be copied to: src/ml_project/pipeline/stage_01_data_ingestion.py\n",
    "\n",
    "stage_01_data_ingestion.py file will have to be created manually"
   ]
  },
  {
   "cell_type": "code",
   "execution_count": null,
   "id": "29d65615-5d8f-44f7-a3e0-c1995e10b693",
   "metadata": {},
   "outputs": [],
   "source": []
  }
 ],
 "metadata": {
  "kernelspec": {
   "display_name": "Python 3 (ipykernel)",
   "language": "python",
   "name": "python3"
  },
  "language_info": {
   "codemirror_mode": {
    "name": "ipython",
    "version": 3
   },
   "file_extension": ".py",
   "mimetype": "text/x-python",
   "name": "python",
   "nbconvert_exporter": "python",
   "pygments_lexer": "ipython3",
   "version": "3.11.5"
  }
 },
 "nbformat": 4,
 "nbformat_minor": 5
}
