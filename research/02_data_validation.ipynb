{
 "cells": [
  {
   "cell_type": "markdown",
   "id": "93fe6643-326b-48f5-a279-2b0dd7913a93",
   "metadata": {},
   "source": [
    "### For data validation"
   ]
  },
  {
   "cell_type": "code",
   "execution_count": 1,
   "id": "e0f5d089-6bdf-47d5-b04f-4e28c677faab",
   "metadata": {},
   "outputs": [],
   "source": [
    "import os"
   ]
  },
  {
   "cell_type": "code",
   "execution_count": 2,
   "id": "9a26f956-73e7-4505-a155-49c0b7178245",
   "metadata": {},
   "outputs": [
    {
     "data": {
      "text/plain": [
       "'D:\\\\ML\\\\End-to-End-Red-Wine-Quality-Prediction\\\\research'"
      ]
     },
     "execution_count": 2,
     "metadata": {},
     "output_type": "execute_result"
    }
   ],
   "source": [
    "%pwd"
   ]
  },
  {
   "cell_type": "code",
   "execution_count": 3,
   "id": "0c2d67d1-2599-49b5-bf15-cae43f82632f",
   "metadata": {},
   "outputs": [],
   "source": [
    "os.chdir(\"../\")"
   ]
  },
  {
   "cell_type": "code",
   "execution_count": 4,
   "id": "6ad7d478-4408-4d4f-af21-596f6ff6ccc2",
   "metadata": {},
   "outputs": [
    {
     "data": {
      "text/plain": [
       "'D:\\\\ML\\\\End-to-End-Red-Wine-Quality-Prediction'"
      ]
     },
     "execution_count": 4,
     "metadata": {},
     "output_type": "execute_result"
    }
   ],
   "source": [
    "%pwd"
   ]
  },
  {
   "cell_type": "markdown",
   "id": "22f47836-0172-4868-a150-d6540d8053f0",
   "metadata": {},
   "source": [
    "... after everything will be written in this notebook\n",
    "\n",
    "the following cell code will then needs to be copied to: src/ml_project/entity/config_entity.py"
   ]
  },
  {
   "cell_type": "code",
   "execution_count": 17,
   "id": "0ff3bc0c-1de5-40f0-b313-6f6e1f9df3d1",
   "metadata": {},
   "outputs": [],
   "source": [
    "# preparing the data validation entity\n",
    "\n",
    "from dataclasses import dataclass\n",
    "from pathlib import Path\n",
    "\n",
    "@dataclass(frozen=True)\n",
    "class DataValidationConfig:\n",
    "    root_dir: Path\n",
    "    STATUS_FILE: str\n",
    "    unzip_data_dir: Path\n",
    "    all_schema: dict\n"
   ]
  },
  {
   "cell_type": "code",
   "execution_count": 18,
   "id": "feaabf98-3fbc-4145-b0b3-32d311bdc3dd",
   "metadata": {},
   "outputs": [],
   "source": [
    "from src.ml_project.constants import *\n",
    "from src.ml_project.utils.common import read_yaml, create_directories\n",
    "\n",
    "# creating configuration as a class\n",
    "\n",
    "class ConfigurationManager:\n",
    "    def __init__(\n",
    "        self,\n",
    "        config_filepath = CONFIG_FILE_PATH,\n",
    "        params_filepath = PARAMS_FILE_PATH,\n",
    "        schema_filepath = SCHEMA_FILE_PATH):\n",
    "\n",
    "        self.config = read_yaml(config_filepath)\n",
    "        self.params = read_yaml(params_filepath)\n",
    "        self.schema = read_yaml(schema_filepath)\n",
    "\n",
    "        create_directories([self.config.artifacts_root])\n",
    "\n",
    "\n",
    "    # function for data validation configuration\n",
    "    def get_data_validation_config(self) -> DataValidationConfig:\n",
    "        config = self.config.data_validation\n",
    "        schema = self.schema.COLUMNS\n",
    "\n",
    "        create_directories([config.root_dir])\n",
    "\n",
    "        data_validation_config = DataValidationConfig(\n",
    "            root_dir = config.root_dir,\n",
    "            STATUS_FILE = config.STATUS_FILE,\n",
    "            unzip_data_dir = config.unzip_data_dir,\n",
    "            all_schema = schema,\n",
    "        )\n",
    "\n",
    "        return data_validation_config"
   ]
  },
  {
   "cell_type": "markdown",
   "id": "87d27ca2-2bde-4c5f-a295-e21bd0f1aa97",
   "metadata": {},
   "source": [
    "... after everything will be written in this notebook\n",
    "\n",
    "the above cell's function 'get_data_validation_config' will then needs to be copied to: src/ml_project/config/configuration.py"
   ]
  },
  {
   "cell_type": "code",
   "execution_count": 19,
   "id": "680a44b6-7403-4617-a5ce-e95d9f165e82",
   "metadata": {},
   "outputs": [],
   "source": [
    "from ml_project import logger"
   ]
  },
  {
   "cell_type": "code",
   "execution_count": 20,
   "id": "d4b444b3-c3ed-4c91-85e9-95ac259cadce",
   "metadata": {},
   "outputs": [],
   "source": [
    "class DataValidation:\n",
    "    def __init__(self, config: DataValidationConfig):\n",
    "        self.config = config\n",
    "\n",
    "    def validate_all_columns(self)-> bool:\n",
    "        try:\n",
    "            validation_status = None\n",
    "\n",
    "            data = pd.read_csv(self.config.unzip_data_dir)\n",
    "            all_cols = list(data.columns)\n",
    "\n",
    "            all_schema = self.config.all_schema.keys()\n",
    "\n",
    "            for col in all_cols:\n",
    "                if col not in all_schema:\n",
    "                    validation_status = False\n",
    "                    with open(self.config.STATUS_FILE, 'w') as f:\n",
    "                        f.write(f\"Validation status: {validation_status}\")\n",
    "                else:\n",
    "                    validation_status = True\n",
    "                    with open(self.config.STATUS_FILE, 'w') as f:\n",
    "                        f.write(f\"Validation status: {validation_status}\")\n",
    "\n",
    "            return validation_status\n",
    "        \n",
    "        except Exception as e:\n",
    "            raise e"
   ]
  },
  {
   "cell_type": "markdown",
   "id": "b4e924a4-4acc-45f6-96bf-f1444e046154",
   "metadata": {},
   "source": [
    "... after everything will be written in this notebook\n",
    "\n",
    "the above cell's codes will then needs to be copied to: src/ml_project/components/data_validation.py\n",
    "\n",
    "data_validation.py file will have to be created manually"
   ]
  },
  {
   "cell_type": "code",
   "execution_count": 21,
   "id": "db388509-20da-48ff-9261-65b4bfa78bef",
   "metadata": {},
   "outputs": [
    {
     "name": "stdout",
     "output_type": "stream",
     "text": [
      "[2024-09-02 20:26:08,357: INFO: common: yaml file: config\\config.yaml loaded successfully]\n",
      "[2024-09-02 20:26:08,373: INFO: common: yaml file: params.yaml loaded successfully]\n",
      "[2024-09-02 20:26:08,375: INFO: common: yaml file: schema.yaml loaded successfully]\n",
      "[2024-09-02 20:26:08,378: INFO: common: created directory at: artifacts]\n",
      "[2024-09-02 20:26:08,378: INFO: common: created directory at: artifacts/data_validation]\n"
     ]
    }
   ],
   "source": [
    "import pandas as pd\n",
    "\n",
    "try:\n",
    "    config = ConfigurationManager()\n",
    "    data_validation_config = config.get_data_validation_config()\n",
    "    data_validation = DataValidation(config = data_validation_config)\n",
    "    data_validation.validate_all_columns()\n",
    "except Exception as e:\n",
    "    raise e"
   ]
  },
  {
   "cell_type": "markdown",
   "id": "1ad2c8ad-541d-4ee9-a8f8-fc6456d01a82",
   "metadata": {},
   "source": [
    "... after everything will be written in this notebook\n",
    "\n",
    "the above cell's only `try` block code will then needs to be copied to: src/ml_project/pipeline/stage_02_data_validation.py\n",
    "\n",
    "stage_02_data_validation.py file will have to be created manually"
   ]
  },
  {
   "cell_type": "code",
   "execution_count": null,
   "id": "56f20f70-46cb-4e33-a190-9a5f86d275fd",
   "metadata": {},
   "outputs": [],
   "source": []
  }
 ],
 "metadata": {
  "kernelspec": {
   "display_name": "Python 3 (ipykernel)",
   "language": "python",
   "name": "python3"
  },
  "language_info": {
   "codemirror_mode": {
    "name": "ipython",
    "version": 3
   },
   "file_extension": ".py",
   "mimetype": "text/x-python",
   "name": "python",
   "nbconvert_exporter": "python",
   "pygments_lexer": "ipython3",
   "version": "3.11.5"
  }
 },
 "nbformat": 4,
 "nbformat_minor": 5
}
