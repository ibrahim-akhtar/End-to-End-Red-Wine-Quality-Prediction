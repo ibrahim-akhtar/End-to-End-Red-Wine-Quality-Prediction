{
 "cells": [
  {
   "cell_type": "code",
   "execution_count": 1,
   "id": "b619a809-486f-484f-aafd-aae1fba4a1eb",
   "metadata": {},
   "outputs": [],
   "source": [
    "import os"
   ]
  },
  {
   "cell_type": "markdown",
   "id": "b0b96eb6-11d3-4e53-a00c-02b732803d62",
   "metadata": {},
   "source": [
    "#### Python Config Box"
   ]
  },
  {
   "cell_type": "code",
   "execution_count": 2,
   "id": "bde29573-e3de-452b-96d8-aefa63627938",
   "metadata": {},
   "outputs": [
    {
     "data": {
      "text/plain": [
       "'value2'"
      ]
     },
     "execution_count": 2,
     "metadata": {},
     "output_type": "execute_result"
    }
   ],
   "source": [
    "d = {\"key1\" : \"value1\", \"key2\": \"value2\"}\n",
    "d['key2']"
   ]
  },
  {
   "cell_type": "code",
   "execution_count": 4,
   "id": "4584b81a-5008-45eb-a0fa-19edb94e845c",
   "metadata": {},
   "outputs": [],
   "source": [
    "# d.key1"
   ]
  },
  {
   "cell_type": "markdown",
   "id": "482514e5-2b78-4bb5-9e95-0a9584b7df61",
   "metadata": {},
   "source": [
    "The above doesn't work for dict in python, but its easier to use.\n",
    "\n",
    "So for it to work, we'll use ConfigBox"
   ]
  },
  {
   "cell_type": "code",
   "execution_count": 5,
   "id": "b3a7e05e-ee1a-4b50-9b92-7c03bf89ebd0",
   "metadata": {},
   "outputs": [
    {
     "data": {
      "text/plain": [
       "ConfigBox({'key1': 'value1', 'key2': 'value2'})"
      ]
     },
     "execution_count": 5,
     "metadata": {},
     "output_type": "execute_result"
    }
   ],
   "source": [
    "from box import ConfigBox\n",
    "\n",
    "d2 = ConfigBox({\"key1\" : \"value1\", \"key2\": \"value2\"})\n",
    "d2"
   ]
  },
  {
   "cell_type": "code",
   "execution_count": 6,
   "id": "c3855a10-c6c4-4c25-a248-7ab89df0a2bd",
   "metadata": {},
   "outputs": [
    {
     "data": {
      "text/plain": [
       "(dict, box.config_box.ConfigBox)"
      ]
     },
     "execution_count": 6,
     "metadata": {},
     "output_type": "execute_result"
    }
   ],
   "source": [
    "type(d), type(d2)"
   ]
  },
  {
   "cell_type": "code",
   "execution_count": 7,
   "id": "08afd3f0-d1fe-479d-a3e7-692d9127afdc",
   "metadata": {},
   "outputs": [
    {
     "data": {
      "text/plain": [
       "'value2'"
      ]
     },
     "execution_count": 7,
     "metadata": {},
     "output_type": "execute_result"
    }
   ],
   "source": [
    "d2.key2"
   ]
  },
  {
   "cell_type": "markdown",
   "id": "c3a612a9-a294-498d-9580-d8f4099b4156",
   "metadata": {},
   "source": [
    "This makes it easy to access files in dictionary in python."
   ]
  },
  {
   "cell_type": "markdown",
   "id": "51ae7c23-82d6-47bf-bf25-0408a41f556e",
   "metadata": {},
   "source": [
    "#### Ensure Annotation"
   ]
  },
  {
   "cell_type": "code",
   "execution_count": 8,
   "id": "4daaafd7-54d0-499a-82f4-8500b26db974",
   "metadata": {},
   "outputs": [
    {
     "data": {
      "text/plain": [
       "6"
      ]
     },
     "execution_count": 8,
     "metadata": {},
     "output_type": "execute_result"
    }
   ],
   "source": [
    "def get_product(x:int, y:int) -> int:\n",
    "    return x*y\n",
    "\n",
    "get_product(2, 3)"
   ]
  },
  {
   "cell_type": "code",
   "execution_count": 10,
   "id": "3b5960ed-6da5-4a00-90fc-527df6e580ca",
   "metadata": {},
   "outputs": [
    {
     "data": {
      "text/plain": [
       "'33'"
      ]
     },
     "execution_count": 10,
     "metadata": {},
     "output_type": "execute_result"
    }
   ],
   "source": [
    "get_product(x=2, y=\"3\")"
   ]
  },
  {
   "cell_type": "code",
   "execution_count": 11,
   "id": "eb34fdc7-49d5-4e11-bdb8-1c53f7e5dd47",
   "metadata": {},
   "outputs": [
    {
     "data": {
      "text/plain": [
       "'222'"
      ]
     },
     "execution_count": 11,
     "metadata": {},
     "output_type": "execute_result"
    }
   ],
   "source": [
    "get_product(x=\"2\", y=3)"
   ]
  },
  {
   "cell_type": "markdown",
   "id": "96d45eb3-5e54-4de2-933e-61174c6360b9",
   "metadata": {},
   "source": [
    "In get_product, we've asked for int inputs but despite giving one of the string inputs, the method is working fine.\n",
    "\n",
    "But with the help of ensure_annotations, we can make it unable to work if it gets some other input other than int."
   ]
  },
  {
   "cell_type": "code",
   "execution_count": 12,
   "id": "67e4e41a-30e7-434d-bbd9-7301de2b2f38",
   "metadata": {},
   "outputs": [
    {
     "data": {
      "text/plain": [
       "6"
      ]
     },
     "execution_count": 12,
     "metadata": {},
     "output_type": "execute_result"
    }
   ],
   "source": [
    "from ensure import ensure_annotations\n",
    "\n",
    "@ensure_annotations\n",
    "def get_product(x:int, y:int) -> int:\n",
    "    return x*y\n",
    "\n",
    "get_product(2, 3)"
   ]
  },
  {
   "cell_type": "code",
   "execution_count": 14,
   "id": "a5a364db-8854-4bc3-bafe-6ed962749c77",
   "metadata": {},
   "outputs": [],
   "source": [
    "# get_product(x=2, y=\"3\")"
   ]
  },
  {
   "cell_type": "markdown",
   "id": "62ccfdc7-6978-4821-9757-8d76d0629017",
   "metadata": {},
   "source": [
    "Now the above is finally throwing an error."
   ]
  },
  {
   "cell_type": "code",
   "execution_count": null,
   "id": "356d756d-0e22-4e53-8099-ba85a26d91a3",
   "metadata": {},
   "outputs": [],
   "source": []
  }
 ],
 "metadata": {
  "kernelspec": {
   "display_name": "Python 3 (ipykernel)",
   "language": "python",
   "name": "python3"
  },
  "language_info": {
   "codemirror_mode": {
    "name": "ipython",
    "version": 3
   },
   "file_extension": ".py",
   "mimetype": "text/x-python",
   "name": "python",
   "nbconvert_exporter": "python",
   "pygments_lexer": "ipython3",
   "version": "3.11.5"
  }
 },
 "nbformat": 4,
 "nbformat_minor": 5
}
